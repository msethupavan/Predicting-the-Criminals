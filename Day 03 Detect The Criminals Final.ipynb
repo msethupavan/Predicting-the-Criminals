{
 "cells": [
  {
   "cell_type": "markdown",
   "metadata": {},
   "source": [
    "## Predict the Criminals"
   ]
  },
  {
   "cell_type": "markdown",
   "metadata": {},
   "source": [
    "#### Installation of the XGBoost"
   ]
  },
  {
   "cell_type": "code",
   "execution_count": 1,
   "metadata": {},
   "outputs": [
    {
     "name": "stdout",
     "output_type": "stream",
     "text": [
      "Solving environment: failed\n",
      "\n",
      "CondaHTTPError: HTTP 000 CONNECTION FAILED for url <https://repo.continuum.io/pkgs/main/noarch/repodata.json.bz2>\n",
      "Elapsed: -\n",
      "\n",
      "An HTTP error occurred when trying to retrieve this URL.\n",
      "HTTP errors are often intermittent, and a simple retry will get you on your way.\n",
      "ConnectionError(MaxRetryError(\"HTTPSConnectionPool(host='repo.continuum.io', port=443): Max retries exceeded with url: /pkgs/main/noarch/repodata.json.bz2 (Caused by NewConnectionError('<urllib3.connection.VerifiedHTTPSConnection object at 0x7f5b341d8250>: Failed to establish a new connection: [Errno -2] Name or service not known',))\",),)\n",
      "\n",
      "\n"
     ]
    }
   ],
   "source": [
    "!conda install -c conda-forge xgboost --yes"
   ]
  },
  {
   "cell_type": "markdown",
   "metadata": {},
   "source": [
    "<img src=\"flow_chart.png\" height=200px width=800px></img>"
   ]
  },
  {
   "cell_type": "markdown",
   "metadata": {},
   "source": [
    "## 01 : Frame the Problem"
   ]
  },
  {
   "cell_type": "markdown",
   "metadata": {},
   "source": [
    "The dataset contains the answers to private and personal life of people.Given this, we have to predict whether a person is criminal or not.The train data consists of 45718 rows, while the test data consists of 11430 rows.\n",
    "\n",
    "#### Problem Link:https://www.hackerearth.com/challenge/competitive/predict-the-criminal/machine-learning/predict-the-criminal/"
   ]
  },
  {
   "cell_type": "markdown",
   "metadata": {},
   "source": [
    "## 02 : Obtain Data"
   ]
  },
  {
   "cell_type": "markdown",
   "metadata": {},
   "source": [
    "### Import Libraries"
   ]
  },
  {
   "cell_type": "code",
   "execution_count": 2,
   "metadata": {},
   "outputs": [
    {
     "name": "stderr",
     "output_type": "stream",
     "text": [
      "/home/sethu/anaconda2/lib/python2.7/site-packages/sklearn/cross_validation.py:41: DeprecationWarning: This module was deprecated in version 0.18 in favor of the model_selection module into which all the refactored classes and functions are moved. Also note that the interface of the new CV iterators are different from that of this module. This module will be removed in 0.20.\n",
      "  \"This module will be removed in 0.20.\", DeprecationWarning)\n",
      "/home/sethu/anaconda2/lib/python2.7/site-packages/sklearn/grid_search.py:42: DeprecationWarning: This module was deprecated in version 0.18 in favor of the model_selection module into which all the refactored classes and functions are moved. This module will be removed in 0.20.\n",
      "  DeprecationWarning)\n"
     ]
    }
   ],
   "source": [
    "import pandas as pd\n",
    "import numpy as np\n",
    "import xgboost as xgb\n",
    "from xgboost.sklearn import XGBClassifier      #\n",
    "from sklearn import cross_validation, metrics  #to include metrics for evaluation\n",
    "from sklearn.grid_search import GridSearchCV #to use gridsearchcv\n",
    "from sklearn.model_selection import train_test_split\n",
    "import matplotlib.pylab as plt\n",
    "%matplotlib inline"
   ]
  },
  {
   "cell_type": "markdown",
   "metadata": {},
   "source": [
    "### Get the Data"
   ]
  },
  {
   "cell_type": "code",
   "execution_count": 3,
   "metadata": {},
   "outputs": [],
   "source": [
    "crim_data=pd.read_csv('criminal_train.csv')"
   ]
  },
  {
   "cell_type": "markdown",
   "metadata": {},
   "source": [
    "## 03 : Analyze Data "
   ]
  },
  {
   "cell_type": "code",
   "execution_count": 4,
   "metadata": {},
   "outputs": [
    {
     "data": {
      "text/html": [
       "<div>\n",
       "<style scoped>\n",
       "    .dataframe tbody tr th:only-of-type {\n",
       "        vertical-align: middle;\n",
       "    }\n",
       "\n",
       "    .dataframe tbody tr th {\n",
       "        vertical-align: top;\n",
       "    }\n",
       "\n",
       "    .dataframe thead th {\n",
       "        text-align: right;\n",
       "    }\n",
       "</style>\n",
       "<table border=\"1\" class=\"dataframe\">\n",
       "  <thead>\n",
       "    <tr style=\"text-align: right;\">\n",
       "      <th></th>\n",
       "      <th>PERID</th>\n",
       "      <th>IFATHER</th>\n",
       "      <th>NRCH17_2</th>\n",
       "      <th>IRHHSIZ2</th>\n",
       "      <th>IIHHSIZ2</th>\n",
       "      <th>IRKI17_2</th>\n",
       "      <th>IIKI17_2</th>\n",
       "      <th>IRHH65_2</th>\n",
       "      <th>IIHH65_2</th>\n",
       "      <th>PRXRETRY</th>\n",
       "      <th>...</th>\n",
       "      <th>TOOLONG</th>\n",
       "      <th>TROUBUND</th>\n",
       "      <th>PDEN10</th>\n",
       "      <th>COUTYP2</th>\n",
       "      <th>MAIIN102</th>\n",
       "      <th>AIIND102</th>\n",
       "      <th>ANALWT_C</th>\n",
       "      <th>VESTR</th>\n",
       "      <th>VEREP</th>\n",
       "      <th>Criminal</th>\n",
       "    </tr>\n",
       "  </thead>\n",
       "  <tbody>\n",
       "    <tr>\n",
       "      <th>0</th>\n",
       "      <td>25095143</td>\n",
       "      <td>4</td>\n",
       "      <td>2</td>\n",
       "      <td>4</td>\n",
       "      <td>1</td>\n",
       "      <td>3</td>\n",
       "      <td>1</td>\n",
       "      <td>1</td>\n",
       "      <td>1</td>\n",
       "      <td>99</td>\n",
       "      <td>...</td>\n",
       "      <td>1</td>\n",
       "      <td>2</td>\n",
       "      <td>1</td>\n",
       "      <td>1</td>\n",
       "      <td>2</td>\n",
       "      <td>2</td>\n",
       "      <td>3884.805998</td>\n",
       "      <td>40026</td>\n",
       "      <td>1</td>\n",
       "      <td>0</td>\n",
       "    </tr>\n",
       "    <tr>\n",
       "      <th>1</th>\n",
       "      <td>13005143</td>\n",
       "      <td>4</td>\n",
       "      <td>1</td>\n",
       "      <td>3</td>\n",
       "      <td>1</td>\n",
       "      <td>2</td>\n",
       "      <td>1</td>\n",
       "      <td>1</td>\n",
       "      <td>1</td>\n",
       "      <td>99</td>\n",
       "      <td>...</td>\n",
       "      <td>2</td>\n",
       "      <td>2</td>\n",
       "      <td>2</td>\n",
       "      <td>3</td>\n",
       "      <td>2</td>\n",
       "      <td>2</td>\n",
       "      <td>1627.108106</td>\n",
       "      <td>40015</td>\n",
       "      <td>2</td>\n",
       "      <td>1</td>\n",
       "    </tr>\n",
       "    <tr>\n",
       "      <th>2</th>\n",
       "      <td>67415143</td>\n",
       "      <td>4</td>\n",
       "      <td>1</td>\n",
       "      <td>2</td>\n",
       "      <td>1</td>\n",
       "      <td>2</td>\n",
       "      <td>1</td>\n",
       "      <td>1</td>\n",
       "      <td>1</td>\n",
       "      <td>99</td>\n",
       "      <td>...</td>\n",
       "      <td>2</td>\n",
       "      <td>2</td>\n",
       "      <td>2</td>\n",
       "      <td>3</td>\n",
       "      <td>2</td>\n",
       "      <td>2</td>\n",
       "      <td>4344.957980</td>\n",
       "      <td>40024</td>\n",
       "      <td>1</td>\n",
       "      <td>0</td>\n",
       "    </tr>\n",
       "    <tr>\n",
       "      <th>3</th>\n",
       "      <td>70925143</td>\n",
       "      <td>4</td>\n",
       "      <td>0</td>\n",
       "      <td>2</td>\n",
       "      <td>1</td>\n",
       "      <td>1</td>\n",
       "      <td>1</td>\n",
       "      <td>1</td>\n",
       "      <td>1</td>\n",
       "      <td>99</td>\n",
       "      <td>...</td>\n",
       "      <td>2</td>\n",
       "      <td>2</td>\n",
       "      <td>1</td>\n",
       "      <td>1</td>\n",
       "      <td>2</td>\n",
       "      <td>2</td>\n",
       "      <td>792.521931</td>\n",
       "      <td>40027</td>\n",
       "      <td>1</td>\n",
       "      <td>0</td>\n",
       "    </tr>\n",
       "    <tr>\n",
       "      <th>4</th>\n",
       "      <td>75235143</td>\n",
       "      <td>1</td>\n",
       "      <td>0</td>\n",
       "      <td>6</td>\n",
       "      <td>1</td>\n",
       "      <td>4</td>\n",
       "      <td>1</td>\n",
       "      <td>1</td>\n",
       "      <td>1</td>\n",
       "      <td>99</td>\n",
       "      <td>...</td>\n",
       "      <td>2</td>\n",
       "      <td>2</td>\n",
       "      <td>2</td>\n",
       "      <td>2</td>\n",
       "      <td>2</td>\n",
       "      <td>2</td>\n",
       "      <td>1518.118526</td>\n",
       "      <td>40001</td>\n",
       "      <td>2</td>\n",
       "      <td>0</td>\n",
       "    </tr>\n",
       "  </tbody>\n",
       "</table>\n",
       "<p>5 rows × 72 columns</p>\n",
       "</div>"
      ],
      "text/plain": [
       "      PERID  IFATHER  NRCH17_2  IRHHSIZ2  IIHHSIZ2  IRKI17_2  IIKI17_2  \\\n",
       "0  25095143        4         2         4         1         3         1   \n",
       "1  13005143        4         1         3         1         2         1   \n",
       "2  67415143        4         1         2         1         2         1   \n",
       "3  70925143        4         0         2         1         1         1   \n",
       "4  75235143        1         0         6         1         4         1   \n",
       "\n",
       "   IRHH65_2  IIHH65_2  PRXRETRY    ...     TOOLONG  TROUBUND  PDEN10  COUTYP2  \\\n",
       "0         1         1        99    ...           1         2       1        1   \n",
       "1         1         1        99    ...           2         2       2        3   \n",
       "2         1         1        99    ...           2         2       2        3   \n",
       "3         1         1        99    ...           2         2       1        1   \n",
       "4         1         1        99    ...           2         2       2        2   \n",
       "\n",
       "   MAIIN102  AIIND102     ANALWT_C  VESTR  VEREP  Criminal  \n",
       "0         2         2  3884.805998  40026      1         0  \n",
       "1         2         2  1627.108106  40015      2         1  \n",
       "2         2         2  4344.957980  40024      1         0  \n",
       "3         2         2   792.521931  40027      1         0  \n",
       "4         2         2  1518.118526  40001      2         0  \n",
       "\n",
       "[5 rows x 72 columns]"
      ]
     },
     "execution_count": 4,
     "metadata": {},
     "output_type": "execute_result"
    }
   ],
   "source": [
    "crim_data.head()"
   ]
  },
  {
   "cell_type": "code",
   "execution_count": 5,
   "metadata": {},
   "outputs": [
    {
     "name": "stdout",
     "output_type": "stream",
     "text": [
      "<class 'pandas.core.frame.DataFrame'>\n",
      "RangeIndex: 45718 entries, 0 to 45717\n",
      "Data columns (total 72 columns):\n",
      "PERID        45718 non-null int64\n",
      "IFATHER      45718 non-null int64\n",
      "NRCH17_2     45718 non-null int64\n",
      "IRHHSIZ2     45718 non-null int64\n",
      "IIHHSIZ2     45718 non-null int64\n",
      "IRKI17_2     45718 non-null int64\n",
      "IIKI17_2     45718 non-null int64\n",
      "IRHH65_2     45718 non-null int64\n",
      "IIHH65_2     45718 non-null int64\n",
      "PRXRETRY     45718 non-null int64\n",
      "PRXYDATA     45718 non-null int64\n",
      "MEDICARE     45718 non-null int64\n",
      "CAIDCHIP     45718 non-null int64\n",
      "CHAMPUS      45718 non-null int64\n",
      "PRVHLTIN     45718 non-null int64\n",
      "GRPHLTIN     45718 non-null int64\n",
      "HLTINNOS     45718 non-null int64\n",
      "HLCNOTYR     45718 non-null int64\n",
      "HLCNOTMO     45718 non-null int64\n",
      "HLCLAST      45718 non-null int64\n",
      "HLLOSRSN     45718 non-null int64\n",
      "HLNVCOST     45718 non-null int64\n",
      "HLNVOFFR     45718 non-null int64\n",
      "HLNVREF      45718 non-null int64\n",
      "HLNVNEED     45718 non-null int64\n",
      "HLNVSOR      45718 non-null int64\n",
      "IRMCDCHP     45718 non-null int64\n",
      "IIMCDCHP     45718 non-null int64\n",
      "IRMEDICR     45718 non-null int64\n",
      "IIMEDICR     45718 non-null int64\n",
      "IRCHMPUS     45718 non-null int64\n",
      "IICHMPUS     45718 non-null int64\n",
      "IRPRVHLT     45718 non-null int64\n",
      "IIPRVHLT     45718 non-null int64\n",
      "IROTHHLT     45718 non-null int64\n",
      "IIOTHHLT     45718 non-null int64\n",
      "HLCALLFG     45718 non-null int64\n",
      "HLCALL99     45718 non-null int64\n",
      "ANYHLTI2     45718 non-null int64\n",
      "IRINSUR4     45718 non-null int64\n",
      "IIINSUR4     45718 non-null int64\n",
      "OTHINS       45718 non-null int64\n",
      "CELLNOTCL    45718 non-null int64\n",
      "CELLWRKNG    45718 non-null int64\n",
      "IRFAMSOC     45718 non-null int64\n",
      "IIFAMSOC     45718 non-null int64\n",
      "IRFAMSSI     45718 non-null int64\n",
      "IIFAMSSI     45718 non-null int64\n",
      "IRFSTAMP     45718 non-null int64\n",
      "IIFSTAMP     45718 non-null int64\n",
      "IRFAMPMT     45718 non-null int64\n",
      "IIFAMPMT     45718 non-null int64\n",
      "IRFAMSVC     45718 non-null int64\n",
      "IIFAMSVC     45718 non-null int64\n",
      "IRWELMOS     45718 non-null int64\n",
      "IIWELMOS     45718 non-null int64\n",
      "IRPINC3      45718 non-null int64\n",
      "IRFAMIN3     45718 non-null int64\n",
      "IIPINC3      45718 non-null int64\n",
      "IIFAMIN3     45718 non-null int64\n",
      "GOVTPROG     45718 non-null int64\n",
      "POVERTY3     45718 non-null int64\n",
      "TOOLONG      45718 non-null int64\n",
      "TROUBUND     45718 non-null int64\n",
      "PDEN10       45718 non-null int64\n",
      "COUTYP2      45718 non-null int64\n",
      "MAIIN102     45718 non-null int64\n",
      "AIIND102     45718 non-null int64\n",
      "ANALWT_C     45718 non-null float64\n",
      "VESTR        45718 non-null int64\n",
      "VEREP        45718 non-null int64\n",
      "Criminal     45718 non-null int64\n",
      "dtypes: float64(1), int64(71)\n",
      "memory usage: 25.1 MB\n"
     ]
    }
   ],
   "source": [
    "crim_data.info()"
   ]
  },
  {
   "cell_type": "markdown",
   "metadata": {},
   "source": [
    "## Brief Introduction On the Model Being Used:"
   ]
  },
  {
   "cell_type": "markdown",
   "metadata": {},
   "source": [
    "    Ensemble:\n",
    "        It is a collection of predictors which are put together to give the final prediction.This is done beacause a collection of predictors together give better performance than a single predictor.There are two techniques of ensembling:\n",
    "        Bagging:\n",
    "            This involves building independent predictors and combining all the predictors to give the final prediction\n",
    "        Boosting:\n",
    "            This involves building the predictors sequentially rather than building each predictor independently.In these predictors learn from the mistakes commited by previous predictors.\n",
    "    Gradient Boosting:\n",
    "        Gradient boosting is a machine learning technique for regression and classification problems, which produces a prediction model in the form of an ensemble of weak prediction models, typically decision trees.One of the widely used algorithms in gradient boosting is XGBoost algorithm.\n",
    "    XGBoost(eXtreme Gradient Boosting):\n",
    "        XGBoost is an optimized distributed gradient boosting library designed to be highly efficient, flexible and portable. It implements machine learning algorithms under the Gradient Boosting framework. XGBoost provides a parallel tree boosting (also known as GBDT, GBM) that solve many data science problems in a fast and accurate way. "
   ]
  },
  {
   "cell_type": "markdown",
   "metadata": {},
   "source": [
    "#### XgBoostClassifier:\n",
    "    It is an implementation of sklearn api for XgBoost Classification.The parameters of the XGBClassifier are:\n",
    "        booster [default=gbtree]:\n",
    "            Select the type of model to run at each iteration.\n",
    "        silent [default=0]:\n",
    "            Silent mode is activated is set to 1, i.e. no running messages will be printed.\n",
    "        nthread [default to maximum number of threads available if not set]:\n",
    "            This is used for parallel processing and number of cores in the system should be entered\n",
    "        eta [default=0.3]:\n",
    "            learning rate in GBM\n",
    "        min_child_weight [default=1]:\n",
    "            Defines the minimum sum of weights of all observations required in a child.\n",
    "        max_depth [default=6]:\n",
    "            The maximum depth of a tree.Used to control over-fitting as higher depth will allow model to learn relations \n",
    "            very specific to a particular sample.\n",
    "        max_leaf_nodes:\n",
    "            The maximum number of terminal nodes or leaves in a tree.Can be defined in place of max_depth.\n",
    "        gamma [default=0]:\n",
    "        A node is split only when the resulting split gives a positive reduction in the loss function.Gamma specifies \n",
    "        the minimum loss reduction required to make a split.\n",
    "        subsample [default=1]:\n",
    "            Denotes the fraction of observations to be randomly samples for each tree.\n",
    "        colsample_bytree [default=1]:\n",
    "            Denotes the fraction of columns to be randomly samples for each tree.\n",
    "        colsample_bylevel [default=1]:\n",
    "            Denotes the subsample ratio of columns for each split, in each level.\n",
    "    "
   ]
  },
  {
   "cell_type": "markdown",
   "metadata": {},
   "source": [
    "## 04 and 05 : Feature Engineering and Model Selection "
   ]
  },
  {
   "cell_type": "markdown",
   "metadata": {},
   "source": [
    "<img src=\"supervised_flow_chart.png\"></img>"
   ]
  },
  {
   "cell_type": "code",
   "execution_count": 6,
   "metadata": {},
   "outputs": [],
   "source": [
    "X_train, X_test, y_train, y_test = train_test_split(crim_data.drop('Criminal',axis=1), \n",
    "                                                    crim_data['Criminal'], test_size=0.30, \n",
    "                                                    random_state=101)"
   ]
  },
  {
   "cell_type": "code",
   "execution_count": 7,
   "metadata": {},
   "outputs": [],
   "source": [
    "train=pd.concat([X_train,y_train],axis=1)"
   ]
  },
  {
   "cell_type": "markdown",
   "metadata": {},
   "source": [
    "#function to estimate the best value of n_estimators and fit the model with the given data"
   ]
  },
  {
   "cell_type": "code",
   "execution_count": 8,
   "metadata": {},
   "outputs": [],
   "source": [
    "def modelfit(alg, dtrain, predictors,useTrainCV=True, cv_folds=5, early_stopping_rounds=50):\n",
    "    \n",
    "    if useTrainCV:\n",
    "        #to get the parameters of xgboost\n",
    "        xgb_param = alg.get_xgb_params() \n",
    "        \n",
    "        #to convert into a datastructure internally used by xgboost for training efficiency \n",
    "        # and speed\n",
    "        xgtrain = xgb.DMatrix(dtrain[predictors].values, label=dtrain[target].values)\n",
    "        \n",
    "        #xgb.cv is used to find the number of estimators required for the parameters \n",
    "        # which are set\n",
    "        cvresult = xgb.cv(xgb_param, xgtrain, \n",
    "                          num_boost_round=alg.get_params()['n_estimators'], nfold=cv_folds,\n",
    "                        metrics='auc', early_stopping_rounds=early_stopping_rounds)\n",
    "        \n",
    "        #setting the n_estimators parameter using set_params\n",
    "        alg.set_params(n_estimators=cvresult.shape[0])\n",
    "        \n",
    "        print(alg.get_xgb_params())\n",
    "    \n",
    "    #Fit the algorithm on the data\n",
    "    alg.fit(dtrain[predictors], dtrain['Criminal'],eval_metric='auc')\n",
    "    \n",
    "    return alg"
   ]
  },
  {
   "cell_type": "code",
   "execution_count": 9,
   "metadata": {},
   "outputs": [],
   "source": [
    "#function to get the accuracy of the model on the test data given the features considered"
   ]
  },
  {
   "cell_type": "code",
   "execution_count": 10,
   "metadata": {},
   "outputs": [],
   "source": [
    "def get_accuracy(alg,predictors):\n",
    "    dtrain_predictions = alg.predict(X_test[predictors])\n",
    "    dtrain_predprob = alg.predict_proba(X_test[predictors])[:,1]\n",
    "    print (\"\\nModel Report\")\n",
    "    print (\"Accuracy : %.4g\" % metrics.accuracy_score(y_test.values, \n",
    "                                                      dtrain_predictions))\n",
    "    print (\"AUC Score (Train): %f\" % metrics.roc_auc_score(y_test.values, \n",
    "                                                           dtrain_predprob))"
   ]
  },
  {
   "cell_type": "code",
   "execution_count": 11,
   "metadata": {},
   "outputs": [],
   "source": [
    "#function to get the feature importances based on the model fit"
   ]
  },
  {
   "cell_type": "code",
   "execution_count": 12,
   "metadata": {},
   "outputs": [],
   "source": [
    "def get_feature_importances(alg):\n",
    "    #to get the feature importances based on xgboost we use fscore\n",
    "    feat_imp = pd.Series(alg._Booster.get_fscore()).sort_values(ascending=False)\n",
    "    print(feat_imp)\n",
    "    \n",
    "    #this shows the feature importances on a bar chart\n",
    "    feat_imp.plot(kind='bar', title='Feature Importances')\n",
    "    plt.ylabel('Feature Importance Score')"
   ]
  },
  {
   "cell_type": "code",
   "execution_count": 13,
   "metadata": {},
   "outputs": [],
   "source": [
    "target = 'Criminal'\n",
    "IDcol = 'PERID'"
   ]
  },
  {
   "cell_type": "code",
   "execution_count": 14,
   "metadata": {},
   "outputs": [],
   "source": [
    "#to return the XGBClassifier object based on the values of the features"
   ]
  },
  {
   "cell_type": "code",
   "execution_count": 15,
   "metadata": {},
   "outputs": [],
   "source": [
    "def XgbClass(learning_rate =0.1,n_estimators=1000,max_depth=5,min_child_weight=1,\n",
    "             gamma=0,subsample=0.8,colsample_bytree=0.8):\n",
    "    xgb1 = XGBClassifier(learning_rate=learning_rate,\n",
    "                         n_estimators=n_estimators,\n",
    "                         max_depth=max_depth,\n",
    "                         min_child_weight=min_child_weight,\n",
    "                         gamma=gamma,\n",
    "                         subsample=subsample,\n",
    "                         colsample_bytree=colsample_bytree)\n",
    "    return xgb1  "
   ]
  },
  {
   "cell_type": "code",
   "execution_count": 16,
   "metadata": {},
   "outputs": [],
   "source": [
    "#Function to return the list of predictors"
   ]
  },
  {
   "cell_type": "code",
   "execution_count": 17,
   "metadata": {},
   "outputs": [],
   "source": [
    "#these are the initial parameters before tuning\n",
    "def drop_features(l):\n",
    "    return [x for x in train.columns if x not in l]"
   ]
  },
  {
   "cell_type": "markdown",
   "metadata": {},
   "source": [
    "### First Prediction : Use of initial parameters and without feature engineering"
   ]
  },
  {
   "cell_type": "code",
   "execution_count": 18,
   "metadata": {},
   "outputs": [
    {
     "name": "stdout",
     "output_type": "stream",
     "text": [
      "{'reg_alpha': 0, 'colsample_bytree': 0.8, 'silent': 1, 'colsample_bylevel': 1, 'scale_pos_weight': 1, 'learning_rate': 0.1, 'missing': None, 'max_delta_step': 0, 'nthread': 1, 'base_score': 0.5, 'n_estimators': 110, 'subsample': 0.8, 'reg_lambda': 1, 'min_child_weight': 1, 'objective': 'binary:logistic', 'seed': 0, 'max_depth': 5, 'gamma': 0, 'booster': 'gbtree'}\n"
     ]
    },
    {
     "data": {
      "text/plain": [
       "XGBClassifier(base_score=0.5, booster='gbtree', colsample_bylevel=1,\n",
       "       colsample_bytree=0.8, gamma=0, learning_rate=0.1, max_delta_step=0,\n",
       "       max_depth=5, min_child_weight=1, missing=None, n_estimators=110,\n",
       "       n_jobs=1, nthread=None, objective='binary:logistic', random_state=0,\n",
       "       reg_alpha=0, reg_lambda=1, scale_pos_weight=1, seed=None,\n",
       "       silent=True, subsample=0.8)"
      ]
     },
     "execution_count": 18,
     "metadata": {},
     "output_type": "execute_result"
    }
   ],
   "source": [
    "predictors = drop_features([target, IDcol])\n",
    "xgb1=XgbClass()\n",
    "first_model=modelfit(xgb1, train, predictors)\n",
    "xgb1.fit(train[predictors],train['Criminal'])"
   ]
  },
  {
   "cell_type": "code",
   "execution_count": 19,
   "metadata": {},
   "outputs": [
    {
     "name": "stdout",
     "output_type": "stream",
     "text": [
      "\n",
      "Model Report\n",
      "Accuracy : 0.9524\n",
      "AUC Score (Train): 0.973564\n"
     ]
    },
    {
     "name": "stderr",
     "output_type": "stream",
     "text": [
      "/home/sethu/anaconda2/lib/python2.7/site-packages/sklearn/preprocessing/label.py:151: DeprecationWarning: The truth value of an empty array is ambiguous. Returning False, but in future this will result in an error. Use `array.size > 0` to check that an array is not empty.\n",
      "  if diff:\n"
     ]
    }
   ],
   "source": [
    "get_accuracy(first_model,predictors)"
   ]
  },
  {
   "cell_type": "code",
   "execution_count": 20,
   "metadata": {},
   "outputs": [
    {
     "name": "stdout",
     "output_type": "stream",
     "text": [
      "ANALWT_C     254\n",
      "VESTR        160\n",
      "IRFAMIN3     132\n",
      "GRPHLTIN     106\n",
      "IRPINC3       78\n",
      "IRHHSIZ2      68\n",
      "POVERTY3      48\n",
      "IRKI17_2      37\n",
      "IFATHER       36\n",
      "HLCNOTMO      35\n",
      "NRCH17_2      29\n",
      "COUTYP2       28\n",
      "IRFAMSOC      26\n",
      "IIFAMIN3      24\n",
      "PDEN10        24\n",
      "CELLNOTCL     21\n",
      "VEREP         20\n",
      "CAIDCHIP      20\n",
      "IRHH65_2      17\n",
      "IRPRVHLT      17\n",
      "HLCNOTYR      17\n",
      "PRVHLTIN      16\n",
      "MEDICARE      15\n",
      "PRXYDATA      15\n",
      "IRFAMPMT      12\n",
      "IRWELMOS      12\n",
      "TROUBUND      11\n",
      "PRXRETRY      11\n",
      "GOVTPROG      11\n",
      "IIWELMOS      11\n",
      "IRMEDICR      10\n",
      "IRFAMSSI      10\n",
      "IIPINC3        9\n",
      "IRFSTAMP       9\n",
      "TOOLONG        8\n",
      "OTHINS         7\n",
      "IRMCDCHP       7\n",
      "IIFAMSSI       7\n",
      "CELLWRKNG      5\n",
      "CHAMPUS        3\n",
      "IIFAMSVC       2\n",
      "MAIIN102       2\n",
      "IRFAMSVC       2\n",
      "IIPRVHLT       2\n",
      "IIFSTAMP       2\n",
      "IRINSUR4       2\n",
      "IIFAMPMT       2\n",
      "IIFAMSOC       2\n",
      "IIKI17_2       2\n",
      "IRCHMPUS       1\n",
      "ANYHLTI2       1\n",
      "dtype: int64\n"
     ]
    },
    {
     "data": {
      "image/png": "[encoded data removed]",
      "text/plain": [
       "<matplotlib.figure.Figure at 0x7f538b6baa90>"
      ]
     },
     "metadata": {},
     "output_type": "display_data"
    }
   ],
   "source": [
    "get_feature_importances(first_model)"
   ]
  },
  {
   "cell_type": "markdown",
   "metadata": {},
   "source": [
    "### Second Prediction : Using intial Parameters and removing features of least importances"
   ]
  },
  {
   "cell_type": "code",
   "execution_count": 21,
   "metadata": {},
   "outputs": [],
   "source": [
    "#model after removing the features of least importance"
   ]
  },
  {
   "cell_type": "code",
   "execution_count": 22,
   "metadata": {},
   "outputs": [],
   "source": [
    "dropl=['IRWELMOS','MAIIN102','IIPINC3','HLTINNOS','IIHH65_2','TOOLONG']"
   ]
  },
  {
   "cell_type": "code",
   "execution_count": 23,
   "metadata": {},
   "outputs": [],
   "source": [
    "dropl_first=dropl+[target,IDcol]"
   ]
  },
  {
   "cell_type": "code",
   "execution_count": 24,
   "metadata": {},
   "outputs": [
    {
     "name": "stdout",
     "output_type": "stream",
     "text": [
      "{'reg_alpha': 0, 'colsample_bytree': 0.8, 'silent': 1, 'colsample_bylevel': 1, 'scale_pos_weight': 1, 'learning_rate': 0.1, 'missing': None, 'max_delta_step': 0, 'nthread': 1, 'base_score': 0.5, 'n_estimators': 81, 'subsample': 0.8, 'reg_lambda': 1, 'min_child_weight': 1, 'objective': 'binary:logistic', 'seed': 0, 'max_depth': 5, 'gamma': 0, 'booster': 'gbtree'}\n"
     ]
    }
   ],
   "source": [
    "#these are the initial parameters before tuning\n",
    "predictors = drop_features(dropl_first)\n",
    "xgb1 = XgbClass()\n",
    "second_model=modelfit(xgb1, train, predictors)"
   ]
  },
  {
   "cell_type": "code",
   "execution_count": 25,
   "metadata": {
    "scrolled": true
   },
   "outputs": [
    {
     "name": "stdout",
     "output_type": "stream",
     "text": [
      "\n",
      "Model Report\n",
      "Accuracy : 0.9522\n",
      "AUC Score (Train): 0.973655\n"
     ]
    },
    {
     "name": "stderr",
     "output_type": "stream",
     "text": [
      "/home/sethu/anaconda2/lib/python2.7/site-packages/sklearn/preprocessing/label.py:151: DeprecationWarning: The truth value of an empty array is ambiguous. Returning False, but in future this will result in an error. Use `array.size > 0` to check that an array is not empty.\n",
      "  if diff:\n"
     ]
    }
   ],
   "source": [
    "get_accuracy(second_model,predictors)"
   ]
  },
  {
   "cell_type": "code",
   "execution_count": 26,
   "metadata": {},
   "outputs": [
    {
     "name": "stdout",
     "output_type": "stream",
     "text": [
      "ANALWT_C     125\n",
      "GRPHLTIN      96\n",
      "IRFAMIN3      94\n",
      "IRPINC3       63\n",
      "VESTR         53\n",
      "IRHHSIZ2      48\n",
      "POVERTY3      34\n",
      "IFATHER       29\n",
      "HLCNOTMO      23\n",
      "IRKI17_2      20\n",
      "IRFAMSOC      17\n",
      "VEREP         15\n",
      "PDEN10        14\n",
      "COUTYP2       14\n",
      "HLCNOTYR      13\n",
      "PRXYDATA      12\n",
      "IIWELMOS      12\n",
      "MEDICARE      12\n",
      "CAIDCHIP      10\n",
      "NRCH17_2      10\n",
      "IIFAMIN3      10\n",
      "PRVHLTIN       9\n",
      "PRXRETRY       9\n",
      "IRHH65_2       8\n",
      "CELLNOTCL      8\n",
      "IRMEDICR       8\n",
      "IRFAMPMT       8\n",
      "IRPRVHLT       8\n",
      "GOVTPROG       7\n",
      "IRMCDCHP       7\n",
      "IRFAMSSI       7\n",
      "TROUBUND       6\n",
      "IIFAMSSI       5\n",
      "OTHINS         5\n",
      "IRFSTAMP       4\n",
      "IIFAMPMT       3\n",
      "IIFAMSOC       2\n",
      "IIKI17_2       2\n",
      "CHAMPUS        2\n",
      "ANYHLTI2       2\n",
      "IIFAMSVC       1\n",
      "IIPRVHLT       1\n",
      "IROTHHLT       1\n",
      "HLCLAST        1\n",
      "IRFAMSVC       1\n",
      "dtype: int64\n"
     ]
    },
    {
     "data": {
      "image/png": "[encoded data removed]",
      "text/plain": [
       "<matplotlib.figure.Figure at 0x7f538aa71150>"
      ]
     },
     "metadata": {},
     "output_type": "display_data"
    }
   ],
   "source": [
    "get_feature_importances(second_model)"
   ]
  },
  {
   "cell_type": "markdown",
   "metadata": {},
   "source": [
    "### Third Prediction : Again removing the features of least importance"
   ]
  },
  {
   "cell_type": "code",
   "execution_count": 27,
   "metadata": {},
   "outputs": [],
   "source": [
    "dropl1=dropl+['IRMCDCHP','HLCLAST','IIKI17_2','IRFAMPMT','IRFSTAMP','ANYHLTI2','IIFAMSVC']\n",
    "dropl_second=dropl_first+['IRMCDCHP','HLCLAST','IIKI17_2','IRFAMPMT','IRFSTAMP','ANYHLTI2',\n",
    "                          'IIFAMSVC']"
   ]
  },
  {
   "cell_type": "code",
   "execution_count": 28,
   "metadata": {},
   "outputs": [],
   "source": [
    "predictors=drop_features(dropl_second)"
   ]
  },
  {
   "cell_type": "code",
   "execution_count": 29,
   "metadata": {},
   "outputs": [
    {
     "name": "stdout",
     "output_type": "stream",
     "text": [
      "{'reg_alpha': 0, 'colsample_bytree': 0.8, 'silent': 1, 'colsample_bylevel': 1, 'scale_pos_weight': 1, 'learning_rate': 0.1, 'missing': None, 'max_delta_step': 0, 'nthread': 1, 'base_score': 0.5, 'n_estimators': 91, 'subsample': 0.8, 'reg_lambda': 1, 'min_child_weight': 1, 'objective': 'binary:logistic', 'seed': 0, 'max_depth': 5, 'gamma': 0, 'booster': 'gbtree'}\n"
     ]
    }
   ],
   "source": [
    "xgb1=XgbClass()\n",
    "third_model1=modelfit(xgb1,train,predictors)"
   ]
  },
  {
   "cell_type": "code",
   "execution_count": 30,
   "metadata": {},
   "outputs": [
    {
     "name": "stdout",
     "output_type": "stream",
     "text": [
      "\n",
      "Model Report\n",
      "Accuracy : 0.9526\n",
      "AUC Score (Train): 0.973444\n"
     ]
    },
    {
     "name": "stderr",
     "output_type": "stream",
     "text": [
      "/home/sethu/anaconda2/lib/python2.7/site-packages/sklearn/preprocessing/label.py:151: DeprecationWarning: The truth value of an empty array is ambiguous. Returning False, but in future this will result in an error. Use `array.size > 0` to check that an array is not empty.\n",
      "  if diff:\n"
     ]
    }
   ],
   "source": [
    "get_accuracy(third_model1,predictors)"
   ]
  },
  {
   "cell_type": "markdown",
   "metadata": {},
   "source": [
    "## 06 : Tune the Model"
   ]
  },
  {
   "cell_type": "code",
   "execution_count": 31,
   "metadata": {},
   "outputs": [],
   "source": [
    "def RunTestAndSaveResults(features,filename,model):\n",
    "    df1=pd.read_csv('criminal_test.csv')\n",
    "    for i in features:\n",
    "        df1.drop(i,axis=1,inplace=True)\n",
    "    predict=model.predict(df1.drop('PERID',axis=1))\n",
    "    data=pd.DataFrame(df1['PERID'],columns=['PERID'])\n",
    "    data['Criminal']=predict\n",
    "    data.to_csv(filename,index=False)"
   ]
  },
  {
   "cell_type": "code",
   "execution_count": 32,
   "metadata": {},
   "outputs": [],
   "source": [
    "#tune max_depth and min_child_weight"
   ]
  },
  {
   "cell_type": "code",
   "execution_count": 33,
   "metadata": {},
   "outputs": [],
   "source": [
    "predictors = drop_features(dropl_first)"
   ]
  },
  {
   "cell_type": "code",
   "execution_count": 34,
   "metadata": {},
   "outputs": [
    {
     "data": {
      "text/plain": [
       "([mean: 0.97082, std: 0.00147, params: {'max_depth': 3, 'min_child_weight': 1},\n",
       "  mean: 0.97081, std: 0.00146, params: {'max_depth': 3, 'min_child_weight': 3},\n",
       "  mean: 0.97081, std: 0.00147, params: {'max_depth': 3, 'min_child_weight': 5},\n",
       "  mean: 0.97212, std: 0.00132, params: {'max_depth': 5, 'min_child_weight': 1},\n",
       "  mean: 0.97210, std: 0.00122, params: {'max_depth': 5, 'min_child_weight': 3},\n",
       "  mean: 0.97210, std: 0.00123, params: {'max_depth': 5, 'min_child_weight': 5},\n",
       "  mean: 0.97238, std: 0.00145, params: {'max_depth': 7, 'min_child_weight': 1},\n",
       "  mean: 0.97232, std: 0.00149, params: {'max_depth': 7, 'min_child_weight': 3},\n",
       "  mean: 0.97238, std: 0.00154, params: {'max_depth': 7, 'min_child_weight': 5},\n",
       "  mean: 0.97170, std: 0.00144, params: {'max_depth': 9, 'min_child_weight': 1},\n",
       "  mean: 0.97197, std: 0.00133, params: {'max_depth': 9, 'min_child_weight': 3},\n",
       "  mean: 0.97195, std: 0.00155, params: {'max_depth': 9, 'min_child_weight': 5}],\n",
       " {'max_depth': 7, 'min_child_weight': 5},\n",
       " 0.97237896735595)"
      ]
     },
     "execution_count": 34,
     "metadata": {},
     "output_type": "execute_result"
    }
   ],
   "source": [
    "param_test1 = {\n",
    " 'max_depth':list(range(3,10,2)),\n",
    " 'min_child_weight':list(range(1,6,2))\n",
    "}\n",
    "gsearch1 = GridSearchCV(estimator=XgbClass(n_estimators=48),param_grid =param_test1,\n",
    "                        scoring='roc_auc',n_jobs=-1,iid=False, cv=5)\n",
    "gsearch1.fit(train[predictors],train[target])\n",
    "gsearch1.grid_scores_, gsearch1.best_params_, gsearch1.best_score_"
   ]
  },
  {
   "cell_type": "code",
   "execution_count": 35,
   "metadata": {},
   "outputs": [],
   "source": [
    "#if the best parameters are edge values then we do \n",
    "#gridsearchcv by taking one less and one value more than the best parameters"
   ]
  },
  {
   "cell_type": "code",
   "execution_count": 36,
   "metadata": {},
   "outputs": [
    {
     "data": {
      "text/plain": [
       "([mean: 0.97230, std: 0.00161, params: {'max_depth': 6, 'min_child_weight': 2},\n",
       "  mean: 0.97223, std: 0.00144, params: {'max_depth': 6, 'min_child_weight': 3},\n",
       "  mean: 0.97236, std: 0.00150, params: {'max_depth': 6, 'min_child_weight': 4},\n",
       "  mean: 0.97217, std: 0.00147, params: {'max_depth': 6, 'min_child_weight': 5},\n",
       "  mean: 0.97209, std: 0.00158, params: {'max_depth': 7, 'min_child_weight': 2},\n",
       "  mean: 0.97232, std: 0.00149, params: {'max_depth': 7, 'min_child_weight': 3},\n",
       "  mean: 0.97250, std: 0.00159, params: {'max_depth': 7, 'min_child_weight': 4},\n",
       "  mean: 0.97238, std: 0.00154, params: {'max_depth': 7, 'min_child_weight': 5},\n",
       "  mean: 0.97183, std: 0.00160, params: {'max_depth': 8, 'min_child_weight': 2},\n",
       "  mean: 0.97224, std: 0.00153, params: {'max_depth': 8, 'min_child_weight': 3},\n",
       "  mean: 0.97210, std: 0.00148, params: {'max_depth': 8, 'min_child_weight': 4},\n",
       "  mean: 0.97233, std: 0.00147, params: {'max_depth': 8, 'min_child_weight': 5},\n",
       "  mean: 0.97174, std: 0.00156, params: {'max_depth': 9, 'min_child_weight': 2},\n",
       "  mean: 0.97197, std: 0.00133, params: {'max_depth': 9, 'min_child_weight': 3},\n",
       "  mean: 0.97189, std: 0.00142, params: {'max_depth': 9, 'min_child_weight': 4},\n",
       "  mean: 0.97195, std: 0.00155, params: {'max_depth': 9, 'min_child_weight': 5}],\n",
       " {'max_depth': 7, 'min_child_weight': 4},\n",
       " 0.9724980981383828)"
      ]
     },
     "execution_count": 36,
     "metadata": {},
     "output_type": "execute_result"
    }
   ],
   "source": [
    "param_test2 = {\n",
    " 'max_depth':[6,7,8,9],\n",
    " 'min_child_weight':[2,3,4,5]\n",
    "}\n",
    "gsearch2 = GridSearchCV(estimator=XgbClass(n_estimators=48),param_grid =param_test2,scoring='roc_auc',n_jobs=-1,iid=False, cv=5)\n",
    "gsearch2.fit(train[predictors],train[target])\n",
    "gsearch2.grid_scores_, gsearch2.best_params_, gsearch2.best_score_"
   ]
  },
  {
   "cell_type": "code",
   "execution_count": 37,
   "metadata": {},
   "outputs": [
    {
     "name": "stdout",
     "output_type": "stream",
     "text": [
      "{'reg_alpha': 0, 'colsample_bytree': 0.8, 'silent': 1, 'colsample_bylevel': 1, 'scale_pos_weight': 1, 'learning_rate': 0.1, 'missing': None, 'max_delta_step': 0, 'nthread': 1, 'base_score': 0.5, 'n_estimators': 30, 'subsample': 0.8, 'reg_lambda': 1, 'min_child_weight': 4, 'objective': 'binary:logistic', 'seed': 0, 'max_depth': 8, 'gamma': 0, 'booster': 'gbtree'}\n"
     ]
    }
   ],
   "source": [
    "xgb1 = XgbClass(max_depth=8,min_child_weight=4)\n",
    "model=modelfit(xgb1, train, predictors)"
   ]
  },
  {
   "cell_type": "code",
   "execution_count": 38,
   "metadata": {},
   "outputs": [
    {
     "name": "stdout",
     "output_type": "stream",
     "text": [
      "\n",
      "Model Report\n",
      "Accuracy : 0.9522\n",
      "AUC Score (Train): 0.973212\n"
     ]
    },
    {
     "name": "stderr",
     "output_type": "stream",
     "text": [
      "/home/sethu/anaconda2/lib/python2.7/site-packages/sklearn/preprocessing/label.py:151: DeprecationWarning: The truth value of an empty array is ambiguous. Returning False, but in future this will result in an error. Use `array.size > 0` to check that an array is not empty.\n",
      "  if diff:\n"
     ]
    }
   ],
   "source": [
    "get_accuracy(model,predictors)"
   ]
  },
  {
   "cell_type": "code",
   "execution_count": 39,
   "metadata": {},
   "outputs": [],
   "source": [
    "#to tune gamma"
   ]
  },
  {
   "cell_type": "code",
   "execution_count": 40,
   "metadata": {},
   "outputs": [
    {
     "data": {
      "text/plain": [
       "([mean: 0.97238, std: 0.00154, params: {'gamma': 0.0},\n",
       "  mean: 0.97236, std: 0.00154, params: {'gamma': 0.1},\n",
       "  mean: 0.97230, std: 0.00152, params: {'gamma': 0.2},\n",
       "  mean: 0.97233, std: 0.00161, params: {'gamma': 0.3},\n",
       "  mean: 0.97234, std: 0.00166, params: {'gamma': 0.4},\n",
       "  mean: 0.97227, std: 0.00154, params: {'gamma': 0.5},\n",
       "  mean: 0.97222, std: 0.00155, params: {'gamma': 0.6},\n",
       "  mean: 0.97232, std: 0.00158, params: {'gamma': 0.7}],\n",
       " {'gamma': 0.0},\n",
       " 0.97237896735595)"
      ]
     },
     "execution_count": 40,
     "metadata": {},
     "output_type": "execute_result"
    }
   ],
   "source": [
    "param_test3 = {\n",
    " 'gamma':[i/10.0 for i in range(0,8)]\n",
    "}\n",
    "gsearch3=GridSearchCV(estimator=XgbClass(n_estimators=48,max_depth=7,min_child_weight=5),\n",
    "                      param_grid =param_test3,scoring='roc_auc',n_jobs=-1,iid=False, cv=5)\n",
    "gsearch3.fit(train[predictors],train[target])\n",
    "gsearch3.grid_scores_, gsearch3.best_params_, gsearch3.best_score_"
   ]
  },
  {
   "cell_type": "code",
   "execution_count": 41,
   "metadata": {},
   "outputs": [
    {
     "name": "stdout",
     "output_type": "stream",
     "text": [
      "{'reg_alpha': 0, 'colsample_bytree': 0.8, 'silent': 1, 'colsample_bylevel': 1, 'scale_pos_weight': 1, 'learning_rate': 0.1, 'missing': None, 'max_delta_step': 0, 'nthread': 1, 'base_score': 0.5, 'n_estimators': 30, 'subsample': 0.8, 'reg_lambda': 1, 'min_child_weight': 4, 'objective': 'binary:logistic', 'seed': 0, 'max_depth': 8, 'gamma': 0.4, 'booster': 'gbtree'}\n"
     ]
    }
   ],
   "source": [
    "xgb1 = XgbClass(max_depth=8,min_child_weight=4,gamma=0.4)\n",
    "model=modelfit(xgb1, train, predictors)"
   ]
  },
  {
   "cell_type": "code",
   "execution_count": 42,
   "metadata": {},
   "outputs": [
    {
     "name": "stdout",
     "output_type": "stream",
     "text": [
      "\n",
      "Model Report\n",
      "Accuracy : 0.9519\n",
      "AUC Score (Train): 0.973183\n"
     ]
    },
    {
     "name": "stderr",
     "output_type": "stream",
     "text": [
      "/home/sethu/anaconda2/lib/python2.7/site-packages/sklearn/preprocessing/label.py:151: DeprecationWarning: The truth value of an empty array is ambiguous. Returning False, but in future this will result in an error. Use `array.size > 0` to check that an array is not empty.\n",
      "  if diff:\n"
     ]
    }
   ],
   "source": [
    "get_accuracy(model,predictors)"
   ]
  },
  {
   "cell_type": "code",
   "execution_count": 43,
   "metadata": {},
   "outputs": [
    {
     "data": {
      "text/plain": [
       "([mean: 0.97219, std: 0.00189, params: {'subsample': 0.6, 'colsample_bytree': 0.6},\n",
       "  mean: 0.97212, std: 0.00173, params: {'subsample': 0.7, 'colsample_bytree': 0.6},\n",
       "  mean: 0.97230, std: 0.00153, params: {'subsample': 0.8, 'colsample_bytree': 0.6},\n",
       "  mean: 0.97207, std: 0.00158, params: {'subsample': 0.9, 'colsample_bytree': 0.6},\n",
       "  mean: 0.97236, std: 0.00141, params: {'subsample': 0.6, 'colsample_bytree': 0.7},\n",
       "  mean: 0.97230, std: 0.00186, params: {'subsample': 0.7, 'colsample_bytree': 0.7},\n",
       "  mean: 0.97222, std: 0.00177, params: {'subsample': 0.8, 'colsample_bytree': 0.7},\n",
       "  mean: 0.97207, std: 0.00148, params: {'subsample': 0.9, 'colsample_bytree': 0.7},\n",
       "  mean: 0.97227, std: 0.00164, params: {'subsample': 0.6, 'colsample_bytree': 0.8},\n",
       "  mean: 0.97229, std: 0.00161, params: {'subsample': 0.7, 'colsample_bytree': 0.8},\n",
       "  mean: 0.97238, std: 0.00154, params: {'subsample': 0.8, 'colsample_bytree': 0.8},\n",
       "  mean: 0.97239, std: 0.00145, params: {'subsample': 0.9, 'colsample_bytree': 0.8},\n",
       "  mean: 0.97218, std: 0.00158, params: {'subsample': 0.6, 'colsample_bytree': 0.9},\n",
       "  mean: 0.97236, std: 0.00161, params: {'subsample': 0.7, 'colsample_bytree': 0.9},\n",
       "  mean: 0.97224, std: 0.00164, params: {'subsample': 0.8, 'colsample_bytree': 0.9},\n",
       "  mean: 0.97252, std: 0.00135, params: {'subsample': 0.9, 'colsample_bytree': 0.9}],\n",
       " {'colsample_bytree': 0.9, 'subsample': 0.9},\n",
       " 0.9725204387145873)"
      ]
     },
     "execution_count": 43,
     "metadata": {},
     "output_type": "execute_result"
    }
   ],
   "source": [
    "param_test4 = {\n",
    " 'subsample':[i/10.0 for i in range(6,10)],\n",
    " 'colsample_bytree':[i/10.0 for i in range(6,10)]\n",
    "}\n",
    "gsearch4=GridSearchCV(estimator=XgbClass(n_estimators=48,max_depth=7,\n",
    "                                         min_child_weight=5,gamma=0),\n",
    "                      param_grid =param_test4,scoring='roc_auc',n_jobs=-1,iid=False, cv=5)\n",
    "gsearch4.fit(train[predictors],train[target])\n",
    "gsearch4.grid_scores_, gsearch4.best_params_, gsearch4.best_score_"
   ]
  },
  {
   "cell_type": "code",
   "execution_count": 44,
   "metadata": {},
   "outputs": [
    {
     "name": "stdout",
     "output_type": "stream",
     "text": [
      "{'reg_alpha': 0, 'colsample_bytree': 0.6, 'silent': 1, 'colsample_bylevel': 1, 'scale_pos_weight': 1, 'learning_rate': 0.1, 'missing': None, 'max_delta_step': 0, 'nthread': 1, 'base_score': 0.5, 'n_estimators': 52, 'subsample': 0.8, 'reg_lambda': 1, 'min_child_weight': 4, 'objective': 'binary:logistic', 'seed': 0, 'max_depth': 8, 'gamma': 0.4, 'booster': 'gbtree'}\n"
     ]
    }
   ],
   "source": [
    "xgb1 = XgbClass(max_depth=8,min_child_weight=4,gamma=0.4,subsample=0.8,colsample_bytree=0.6)\n",
    "model=modelfit(xgb1, train, predictors)"
   ]
  },
  {
   "cell_type": "code",
   "execution_count": 45,
   "metadata": {},
   "outputs": [
    {
     "name": "stdout",
     "output_type": "stream",
     "text": [
      "\n",
      "Model Report\n",
      "Accuracy : 0.9513\n",
      "AUC Score (Train): 0.973637\n"
     ]
    },
    {
     "name": "stderr",
     "output_type": "stream",
     "text": [
      "/home/sethu/anaconda2/lib/python2.7/site-packages/sklearn/preprocessing/label.py:151: DeprecationWarning: The truth value of an empty array is ambiguous. Returning False, but in future this will result in an error. Use `array.size > 0` to check that an array is not empty.\n",
      "  if diff:\n"
     ]
    }
   ],
   "source": [
    "get_accuracy(model,predictors)"
   ]
  },
  {
   "cell_type": "code",
   "execution_count": 46,
   "metadata": {
    "scrolled": true
   },
   "outputs": [
    {
     "name": "stderr",
     "output_type": "stream",
     "text": [
      "/home/sethu/anaconda2/lib/python2.7/site-packages/sklearn/preprocessing/label.py:151: DeprecationWarning: The truth value of an empty array is ambiguous. Returning False, but in future this will result in an error. Use `array.size > 0` to check that an array is not empty.\n",
      "  if diff:\n"
     ]
    }
   ],
   "source": [
    "dropl=['IRWELMOS','MAIIN102','IIPINC3','HLTINNOS','IIHH65_2','TOOLONG']\n",
    "dropl =dropl+ ['HLCLAST','IIFAMSVC', 'IIKI17_2', 'ANYHLTI2', 'IRFAMPMT', 'IRFSTAMP', 'IRMCDCHP']\n",
    "RunTestAndSaveResults(dropl,'final_result.csv',third_model1)"
   ]
  },
  {
   "cell_type": "markdown",
   "metadata": {},
   "source": [
    "## 07 : Predicting on New Data"
   ]
  },
  {
   "cell_type": "code",
   "execution_count": 47,
   "metadata": {},
   "outputs": [],
   "source": [
    "#Function stores the result in required csv file and features"
   ]
  },
  {
   "cell_type": "code",
   "execution_count": 48,
   "metadata": {},
   "outputs": [
    {
     "name": "stderr",
     "output_type": "stream",
     "text": [
      "/home/sethu/anaconda2/lib/python2.7/site-packages/sklearn/preprocessing/label.py:151: DeprecationWarning: The truth value of an empty array is ambiguous. Returning False, but in future this will result in an error. Use `array.size > 0` to check that an array is not empty.\n",
      "  if diff:\n"
     ]
    }
   ],
   "source": [
    "RunTestAndSaveResults([],'result.csv',first_model)"
   ]
  },
  {
   "cell_type": "code",
   "execution_count": 49,
   "metadata": {},
   "outputs": [],
   "source": [
    "#This model is giving high accurancy since we applied feature engineering"
   ]
  },
  {
   "cell_type": "code",
   "execution_count": 50,
   "metadata": {},
   "outputs": [
    {
     "data": {
      "text/plain": [
       "['IRWELMOS',\n",
       " 'MAIIN102',\n",
       " 'IIPINC3',\n",
       " 'HLTINNOS',\n",
       " 'IIHH65_2',\n",
       " 'TOOLONG',\n",
       " 'HLCLAST',\n",
       " 'IIFAMSVC',\n",
       " 'IIKI17_2',\n",
       " 'ANYHLTI2',\n",
       " 'IRFAMPMT',\n",
       " 'IRFSTAMP',\n",
       " 'IRMCDCHP']"
      ]
     },
     "execution_count": 50,
     "metadata": {},
     "output_type": "execute_result"
    }
   ],
   "source": [
    "dropl"
   ]
  },
  {
   "cell_type": "code",
   "execution_count": 51,
   "metadata": {},
   "outputs": [
    {
     "ename": "ValueError",
     "evalue": "feature_names mismatch: [u'IFATHER', u'NRCH17_2', u'IRHHSIZ2', u'IIHHSIZ2', u'IRKI17_2', u'IIKI17_2', u'IRHH65_2', u'PRXRETRY', u'PRXYDATA', u'MEDICARE', u'CAIDCHIP', u'CHAMPUS', u'PRVHLTIN', u'GRPHLTIN', u'HLCNOTYR', u'HLCNOTMO', u'HLCLAST', u'HLLOSRSN', u'HLNVCOST', u'HLNVOFFR', u'HLNVREF', u'HLNVNEED', u'HLNVSOR', u'IRMCDCHP', u'IIMCDCHP', u'IRMEDICR', u'IIMEDICR', u'IRCHMPUS', u'IICHMPUS', u'IRPRVHLT', u'IIPRVHLT', u'IROTHHLT', u'IIOTHHLT', u'HLCALLFG', u'HLCALL99', u'ANYHLTI2', u'IRINSUR4', u'IIINSUR4', u'OTHINS', u'CELLNOTCL', u'CELLWRKNG', u'IRFAMSOC', u'IIFAMSOC', u'IRFAMSSI', u'IIFAMSSI', u'IRFSTAMP', u'IIFSTAMP', u'IRFAMPMT', u'IIFAMPMT', u'IRFAMSVC', u'IIFAMSVC', u'IIWELMOS', u'IRPINC3', u'IRFAMIN3', u'IIFAMIN3', u'GOVTPROG', u'POVERTY3', u'TROUBUND', u'PDEN10', u'COUTYP2', u'AIIND102', u'ANALWT_C', u'VESTR', u'VEREP'] [u'IFATHER', u'NRCH17_2', u'IRHHSIZ2', u'IIHHSIZ2', u'IRKI17_2', u'IRHH65_2', u'PRXRETRY', u'PRXYDATA', u'MEDICARE', u'CAIDCHIP', u'CHAMPUS', u'PRVHLTIN', u'GRPHLTIN', u'HLCNOTYR', u'HLCNOTMO', u'HLLOSRSN', u'HLNVCOST', u'HLNVOFFR', u'HLNVREF', u'HLNVNEED', u'HLNVSOR', u'IIMCDCHP', u'IRMEDICR', u'IIMEDICR', u'IRCHMPUS', u'IICHMPUS', u'IRPRVHLT', u'IIPRVHLT', u'IROTHHLT', u'IIOTHHLT', u'HLCALLFG', u'HLCALL99', u'IRINSUR4', u'IIINSUR4', u'OTHINS', u'CELLNOTCL', u'CELLWRKNG', u'IRFAMSOC', u'IIFAMSOC', u'IRFAMSSI', u'IIFAMSSI', u'IIFSTAMP', u'IIFAMPMT', u'IRFAMSVC', u'IIWELMOS', u'IRPINC3', u'IRFAMIN3', u'IIFAMIN3', u'GOVTPROG', u'POVERTY3', u'TROUBUND', u'PDEN10', u'COUTYP2', u'AIIND102', u'ANALWT_C', u'VESTR', u'VEREP']\nexpected IRMCDCHP, IIFAMSVC, IIKI17_2, ANYHLTI2, IRFAMPMT, IRFSTAMP, HLCLAST in input data",
     "output_type": "error",
     "traceback": [
      "\u001b[0;31m---------------------------------------------------------------------------\u001b[0m",
      "\u001b[0;31mValueError\u001b[0m                                Traceback (most recent call last)",
      "\u001b[0;32m<ipython-input-51-07953740dede>\u001b[0m in \u001b[0;36m<module>\u001b[0;34m()\u001b[0m\n\u001b[0;32m----> 1\u001b[0;31m \u001b[0mRunTestAndSaveResults\u001b[0m\u001b[0;34m(\u001b[0m\u001b[0mdropl\u001b[0m\u001b[0;34m,\u001b[0m\u001b[0;34m'result.csv'\u001b[0m\u001b[0;34m,\u001b[0m\u001b[0msecond_model\u001b[0m\u001b[0;34m)\u001b[0m\u001b[0;34m\u001b[0m\u001b[0m\n\u001b[0m",
      "\u001b[0;32m<ipython-input-31-b562173cc91c>\u001b[0m in \u001b[0;36mRunTestAndSaveResults\u001b[0;34m(features, filename, model)\u001b[0m\n\u001b[1;32m      3\u001b[0m     \u001b[0;32mfor\u001b[0m \u001b[0mi\u001b[0m \u001b[0;32min\u001b[0m \u001b[0mfeatures\u001b[0m\u001b[0;34m:\u001b[0m\u001b[0;34m\u001b[0m\u001b[0m\n\u001b[1;32m      4\u001b[0m         \u001b[0mdf1\u001b[0m\u001b[0;34m.\u001b[0m\u001b[0mdrop\u001b[0m\u001b[0;34m(\u001b[0m\u001b[0mi\u001b[0m\u001b[0;34m,\u001b[0m\u001b[0maxis\u001b[0m\u001b[0;34m=\u001b[0m\u001b[0;36m1\u001b[0m\u001b[0;34m,\u001b[0m\u001b[0minplace\u001b[0m\u001b[0;34m=\u001b[0m\u001b[0mTrue\u001b[0m\u001b[0;34m)\u001b[0m\u001b[0;34m\u001b[0m\u001b[0m\n\u001b[0;32m----> 5\u001b[0;31m     \u001b[0mpredict\u001b[0m\u001b[0;34m=\u001b[0m\u001b[0mmodel\u001b[0m\u001b[0;34m.\u001b[0m\u001b[0mpredict\u001b[0m\u001b[0;34m(\u001b[0m\u001b[0mdf1\u001b[0m\u001b[0;34m.\u001b[0m\u001b[0mdrop\u001b[0m\u001b[0;34m(\u001b[0m\u001b[0;34m'PERID'\u001b[0m\u001b[0;34m,\u001b[0m\u001b[0maxis\u001b[0m\u001b[0;34m=\u001b[0m\u001b[0;36m1\u001b[0m\u001b[0;34m)\u001b[0m\u001b[0;34m)\u001b[0m\u001b[0;34m\u001b[0m\u001b[0m\n\u001b[0m\u001b[1;32m      6\u001b[0m     \u001b[0mdata\u001b[0m\u001b[0;34m=\u001b[0m\u001b[0mpd\u001b[0m\u001b[0;34m.\u001b[0m\u001b[0mDataFrame\u001b[0m\u001b[0;34m(\u001b[0m\u001b[0mdf1\u001b[0m\u001b[0;34m[\u001b[0m\u001b[0;34m'PERID'\u001b[0m\u001b[0;34m]\u001b[0m\u001b[0;34m,\u001b[0m\u001b[0mcolumns\u001b[0m\u001b[0;34m=\u001b[0m\u001b[0;34m[\u001b[0m\u001b[0;34m'PERID'\u001b[0m\u001b[0;34m]\u001b[0m\u001b[0;34m)\u001b[0m\u001b[0;34m\u001b[0m\u001b[0m\n\u001b[1;32m      7\u001b[0m     \u001b[0mdata\u001b[0m\u001b[0;34m[\u001b[0m\u001b[0;34m'Criminal'\u001b[0m\u001b[0;34m]\u001b[0m\u001b[0;34m=\u001b[0m\u001b[0mpredict\u001b[0m\u001b[0;34m\u001b[0m\u001b[0m\n",
      "\u001b[0;32m/home/sethu/anaconda2/lib/python2.7/site-packages/xgboost/sklearn.pyc\u001b[0m in \u001b[0;36mpredict\u001b[0;34m(self, data, output_margin, ntree_limit)\u001b[0m\n\u001b[1;32m    542\u001b[0m         class_probs = self.get_booster().predict(test_dmatrix,\n\u001b[1;32m    543\u001b[0m                                                  \u001b[0moutput_margin\u001b[0m\u001b[0;34m=\u001b[0m\u001b[0moutput_margin\u001b[0m\u001b[0;34m,\u001b[0m\u001b[0;34m\u001b[0m\u001b[0m\n\u001b[0;32m--> 544\u001b[0;31m                                                  ntree_limit=ntree_limit)\n\u001b[0m\u001b[1;32m    545\u001b[0m         \u001b[0;32mif\u001b[0m \u001b[0mlen\u001b[0m\u001b[0;34m(\u001b[0m\u001b[0mclass_probs\u001b[0m\u001b[0;34m.\u001b[0m\u001b[0mshape\u001b[0m\u001b[0;34m)\u001b[0m \u001b[0;34m>\u001b[0m \u001b[0;36m1\u001b[0m\u001b[0;34m:\u001b[0m\u001b[0;34m\u001b[0m\u001b[0m\n\u001b[1;32m    546\u001b[0m             \u001b[0mcolumn_indexes\u001b[0m \u001b[0;34m=\u001b[0m \u001b[0mnp\u001b[0m\u001b[0;34m.\u001b[0m\u001b[0margmax\u001b[0m\u001b[0;34m(\u001b[0m\u001b[0mclass_probs\u001b[0m\u001b[0;34m,\u001b[0m \u001b[0maxis\u001b[0m\u001b[0;34m=\u001b[0m\u001b[0;36m1\u001b[0m\u001b[0;34m)\u001b[0m\u001b[0;34m\u001b[0m\u001b[0m\n",
      "\u001b[0;32m/home/sethu/anaconda2/lib/python2.7/site-packages/xgboost/core.pyc\u001b[0m in \u001b[0;36mpredict\u001b[0;34m(self, data, output_margin, ntree_limit, pred_leaf, pred_contribs, approx_contribs, pred_interactions)\u001b[0m\n\u001b[1;32m   1048\u001b[0m             \u001b[0moption_mask\u001b[0m \u001b[0;34m|=\u001b[0m \u001b[0;36m0x10\u001b[0m\u001b[0;34m\u001b[0m\u001b[0m\n\u001b[1;32m   1049\u001b[0m \u001b[0;34m\u001b[0m\u001b[0m\n\u001b[0;32m-> 1050\u001b[0;31m         \u001b[0mself\u001b[0m\u001b[0;34m.\u001b[0m\u001b[0m_validate_features\u001b[0m\u001b[0;34m(\u001b[0m\u001b[0mdata\u001b[0m\u001b[0;34m)\u001b[0m\u001b[0;34m\u001b[0m\u001b[0m\n\u001b[0m\u001b[1;32m   1051\u001b[0m \u001b[0;34m\u001b[0m\u001b[0m\n\u001b[1;32m   1052\u001b[0m         \u001b[0mlength\u001b[0m \u001b[0;34m=\u001b[0m \u001b[0mc_bst_ulong\u001b[0m\u001b[0;34m(\u001b[0m\u001b[0;34m)\u001b[0m\u001b[0;34m\u001b[0m\u001b[0m\n",
      "\u001b[0;32m/home/sethu/anaconda2/lib/python2.7/site-packages/xgboost/core.pyc\u001b[0m in \u001b[0;36m_validate_features\u001b[0;34m(self, data)\u001b[0m\n\u001b[1;32m   1306\u001b[0m \u001b[0;34m\u001b[0m\u001b[0m\n\u001b[1;32m   1307\u001b[0m                 raise ValueError(msg.format(self.feature_names,\n\u001b[0;32m-> 1308\u001b[0;31m                                             data.feature_names))\n\u001b[0m\u001b[1;32m   1309\u001b[0m \u001b[0;34m\u001b[0m\u001b[0m\n\u001b[1;32m   1310\u001b[0m     \u001b[0;32mdef\u001b[0m \u001b[0mget_split_value_histogram\u001b[0m\u001b[0;34m(\u001b[0m\u001b[0mself\u001b[0m\u001b[0;34m,\u001b[0m \u001b[0mfeature\u001b[0m\u001b[0;34m,\u001b[0m \u001b[0mfmap\u001b[0m\u001b[0;34m=\u001b[0m\u001b[0;34m''\u001b[0m\u001b[0;34m,\u001b[0m \u001b[0mbins\u001b[0m\u001b[0;34m=\u001b[0m\u001b[0mNone\u001b[0m\u001b[0;34m,\u001b[0m \u001b[0mas_pandas\u001b[0m\u001b[0;34m=\u001b[0m\u001b[0mTrue\u001b[0m\u001b[0;34m)\u001b[0m\u001b[0;34m:\u001b[0m\u001b[0;34m\u001b[0m\u001b[0m\n",
      "\u001b[0;31mValueError\u001b[0m: feature_names mismatch: [u'IFATHER', u'NRCH17_2', u'IRHHSIZ2', u'IIHHSIZ2', u'IRKI17_2', u'IIKI17_2', u'IRHH65_2', u'PRXRETRY', u'PRXYDATA', u'MEDICARE', u'CAIDCHIP', u'CHAMPUS', u'PRVHLTIN', u'GRPHLTIN', u'HLCNOTYR', u'HLCNOTMO', u'HLCLAST', u'HLLOSRSN', u'HLNVCOST', u'HLNVOFFR', u'HLNVREF', u'HLNVNEED', u'HLNVSOR', u'IRMCDCHP', u'IIMCDCHP', u'IRMEDICR', u'IIMEDICR', u'IRCHMPUS', u'IICHMPUS', u'IRPRVHLT', u'IIPRVHLT', u'IROTHHLT', u'IIOTHHLT', u'HLCALLFG', u'HLCALL99', u'ANYHLTI2', u'IRINSUR4', u'IIINSUR4', u'OTHINS', u'CELLNOTCL', u'CELLWRKNG', u'IRFAMSOC', u'IIFAMSOC', u'IRFAMSSI', u'IIFAMSSI', u'IRFSTAMP', u'IIFSTAMP', u'IRFAMPMT', u'IIFAMPMT', u'IRFAMSVC', u'IIFAMSVC', u'IIWELMOS', u'IRPINC3', u'IRFAMIN3', u'IIFAMIN3', u'GOVTPROG', u'POVERTY3', u'TROUBUND', u'PDEN10', u'COUTYP2', u'AIIND102', u'ANALWT_C', u'VESTR', u'VEREP'] [u'IFATHER', u'NRCH17_2', u'IRHHSIZ2', u'IIHHSIZ2', u'IRKI17_2', u'IRHH65_2', u'PRXRETRY', u'PRXYDATA', u'MEDICARE', u'CAIDCHIP', u'CHAMPUS', u'PRVHLTIN', u'GRPHLTIN', u'HLCNOTYR', u'HLCNOTMO', u'HLLOSRSN', u'HLNVCOST', u'HLNVOFFR', u'HLNVREF', u'HLNVNEED', u'HLNVSOR', u'IIMCDCHP', u'IRMEDICR', u'IIMEDICR', u'IRCHMPUS', u'IICHMPUS', u'IRPRVHLT', u'IIPRVHLT', u'IROTHHLT', u'IIOTHHLT', u'HLCALLFG', u'HLCALL99', u'IRINSUR4', u'IIINSUR4', u'OTHINS', u'CELLNOTCL', u'CELLWRKNG', u'IRFAMSOC', u'IIFAMSOC', u'IRFAMSSI', u'IIFAMSSI', u'IIFSTAMP', u'IIFAMPMT', u'IRFAMSVC', u'IIWELMOS', u'IRPINC3', u'IRFAMIN3', u'IIFAMIN3', u'GOVTPROG', u'POVERTY3', u'TROUBUND', u'PDEN10', u'COUTYP2', u'AIIND102', u'ANALWT_C', u'VESTR', u'VEREP']\nexpected IRMCDCHP, IIFAMSVC, IIKI17_2, ANYHLTI2, IRFAMPMT, IRFSTAMP, HLCLAST in input data"
     ]
    }
   ],
   "source": [
    "RunTestAndSaveResults(dropl,'result.csv',second_model)"
   ]
  },
  {
   "cell_type": "code",
   "execution_count": null,
   "metadata": {},
   "outputs": [],
   "source": [
    "#When the features are repeated again and again then overfitting takes place and the accuracy decrease"
   ]
  },
  {
   "cell_type": "code",
   "execution_count": null,
   "metadata": {},
   "outputs": [],
   "source": [
    "RunTestAndSaveResults(dropl1,'result1.csv',third_model1)"
   ]
  },
  {
   "cell_type": "code",
   "execution_count": null,
   "metadata": {},
   "outputs": [],
   "source": []
  }
 ],
 "metadata": {
  "kernelspec": {
   "display_name": "Python 2",
   "language": "python",
   "name": "python2"
  },
  "language_info": {
   "codemirror_mode": {
    "name": "ipython",
    "version": 2
   },
   "file_extension": ".py",
   "mimetype": "text/x-python",
   "name": "python",
   "nbconvert_exporter": "python",
   "pygments_lexer": "ipython2",
   "version": "2.7.14"
  }
 },
 "nbformat": 4,
 "nbformat_minor": 2
}
